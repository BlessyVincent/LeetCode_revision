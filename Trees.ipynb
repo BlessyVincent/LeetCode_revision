{
 "cells": [
  {
   "cell_type": "code",
   "execution_count": null,
   "id": "5d26d35d",
   "metadata": {},
   "outputs": [],
   "source": [
    "# Trees "
   ]
  },
  {
   "cell_type": "code",
   "execution_count": null,
   "id": "d34f43c5",
   "metadata": {},
   "outputs": [],
   "source": [
    "def maxDepth(self, root: Optional[TreeNode]) -> int:\n",
    "    if not root:\n",
    "        return 0\n",
    "    return max(1+self.maxDepth(root.left),1+self.maxDepth(root.right))"
   ]
  },
  {
   "cell_type": "code",
   "execution_count": null,
   "id": "bb58bd4f",
   "metadata": {},
   "outputs": [],
   "source": [
    "#Same Tree"
   ]
  },
  {
   "cell_type": "code",
   "execution_count": null,
   "id": "e2df5bf4",
   "metadata": {},
   "outputs": [],
   "source": [
    "def isSubtree(root: Optional[TreeNode], subRoot: Optional[TreeNode]) -> bool:\n",
    "    if subRoot is None:\n",
    "        return True\n",
    "    if root is None:\n",
    "        return False \n",
    "    if self.isSameTree(root,subRoot):\n",
    "        return True\n",
    "    return self.isSubtree(root.left,subRoot) or self.isSubtree(root.right,subRoot)\n",
    "        "
   ]
  },
  {
   "cell_type": "code",
   "execution_count": null,
   "id": "41ecd7c4",
   "metadata": {},
   "outputs": [],
   "source": [
    "def maxDepth(self, root: Optional[TreeNode]) ->:\n",
    "    level =0\n",
    "    q=deque([root])\n",
    "    while q:\n",
    "        for i in range(len(q)):\n",
    "            node=q.popleft()\n",
    "            if node.left:\n",
    "                q.append(node.left)\n",
    "            if node.right:\n",
    "                q.append(node.right)\n",
    "        level += 1\n",
    "    return level\n",
    "            "
   ]
  },
  {
   "cell_type": "code",
   "execution_count": null,
   "id": "7971a477",
   "metadata": {},
   "outputs": [],
   "source": [
    "def levelOrder(self, root: Optional[TreeNode]) -> List[List[int]]:\n",
    "    q=[]\n",
    "    q.append(root)\n",
    "    result=[]\n",
    "    while q:\n",
    "        level=[]\n",
    "        for i in range(len(q)):\n",
    "            node=q.pop(0)\n",
    "            level.append(node.val)\n",
    "            if node.left:\n",
    "                q.append(node.left)\n",
    "            if node.right:\n",
    "                q.append(node.right)\n",
    "        result.append(level)\n",
    "    return result "
   ]
  },
  {
   "cell_type": "code",
   "execution_count": null,
   "id": "205c64d3",
   "metadata": {},
   "outputs": [],
   "source": [
    "# Definition for a binary tree node.\n",
    "# class TreeNode:\n",
    "#     def __init__(self, val=0, left=None, right=None):\n",
    "#         self.val = val\n",
    "#         self.left = left\n",
    "#         self.right = right\n",
    "class Solution:\n",
    "    def isValidBST(self, root: Optional[TreeNode]) -> bool:\n",
    "        values=[]\n",
    "        def inorder(root,values):\n",
    "            if root is None:\n",
    "                return \n",
    "            inorder(root.left,values)\n",
    "            values.append(root.val)\n",
    "            inorder(root.right,values)\n",
    "\n",
    "        \n",
    "        inorder(root,values)\n",
    "        for i in range(len(values)-1):\n",
    "            if values[i]>=values[i+1]:\n",
    "                return False\n",
    "        return True\n",
    "        "
   ]
  },
  {
   "cell_type": "code",
   "execution_count": null,
   "id": "a21e4c35",
   "metadata": {},
   "outputs": [],
   "source": [
    "values=[]\n",
    "def inorder(root,values):\n",
    "    if root is None:\n",
    "        return \n",
    "    inorder(root.left,values)\n",
    "    values.append(root.val)\n",
    "    inorder(root.right,values)\n",
    "    \n",
    "    "
   ]
  },
  {
   "cell_type": "code",
   "execution_count": null,
   "id": "2ed62b95",
   "metadata": {},
   "outputs": [],
   "source": []
  },
  {
   "cell_type": "code",
   "execution_count": null,
   "id": "f31f6146",
   "metadata": {},
   "outputs": [],
   "source": []
  },
  {
   "cell_type": "code",
   "execution_count": null,
   "id": "1558807c",
   "metadata": {},
   "outputs": [],
   "source": [
    "def isValidBST(self, root: Optional[TreeNode]) -> bool:\n",
    "    values=[]\n",
    "    def inorder(root,values):\n",
    "        if root is None:\n",
    "            return\n",
    "        inorder(root.left,values)\n",
    "        inorder(values.append(root.val))\n",
    "        inorder(root.right,values)\n",
    "        \n",
    "        inorder(root,values)\n",
    "        for i in range(len(values)-1):\n",
    "            if values[i]>=values[i+1]:\n",
    "                return False\n",
    "        return True "
   ]
  },
  {
   "cell_type": "code",
   "execution_count": null,
   "id": "a8d8819c",
   "metadata": {},
   "outputs": [],
   "source": []
  },
  {
   "cell_type": "code",
   "execution_count": null,
   "id": "2bb2f8d9",
   "metadata": {},
   "outputs": [],
   "source": []
  },
  {
   "cell_type": "code",
   "execution_count": null,
   "id": "1010eee8",
   "metadata": {},
   "outputs": [],
   "source": []
  },
  {
   "cell_type": "code",
   "execution_count": null,
   "id": "6aae0a64",
   "metadata": {},
   "outputs": [],
   "source": [
    "# Definition for a binary tree node.\n",
    "# class TreeNode:\n",
    "#     def __init__(self, val=0, left=None, right=None):\n",
    "#         self.val = val\n",
    "#         self.left = left\n",
    "#         self.right = right\n",
    "class Solution:\n",
    "    def kthSmallest(self, root: Optional[TreeNode], k: int) -> int:\n",
    "        stack = []\n",
    "        # Continue the loop as long as there are nodes to be processed\n",
    "        # either in the stack or in the tree starting with the root.\n",
    "        while root or stack:\n",
    "            # Go to the leftmost node\n",
    "            if root:\n",
    "                # Push the current node onto the stack\n",
    "                stack.append(root)\n",
    "                # Move to the left child of the current node\n",
    "                root = root.left\n",
    "            else:\n",
    "                # If there is no left child, pop the node from the stack,\n",
    "                # this node is the next in the in-order traversal\n",
    "                root = stack.pop()\n",
    "                # Decrement k, as we have found one more small element\n",
    "                k -= 1\n",
    "                # If k is 0, we have found the kth smallest element\n",
    "                if k == 0:\n",
    "                    # Return the value of kth smallest node\n",
    "                    return root.val\n",
    "                # Move to the right child of the current node\n",
    "                root = root.right\n",
    "        "
   ]
  },
  {
   "cell_type": "code",
   "execution_count": null,
   "id": "16c5aff2",
   "metadata": {},
   "outputs": [],
   "source": [
    "def lowestCommonAncestor(self, root: 'TreeNode', p: 'TreeNode', q: 'TreeNode') -> 'TreeNode':\n",
    "        curr=root\n",
    "        if p.val < curr.val and q.val <curr.val:\n",
    "            curr=curr.left\n",
    "        if p.val > curr.val and q.val >curr.val :\n",
    "            curr=curr.right\n",
    "        else:\n",
    "            return curr"
   ]
  },
  {
   "cell_type": "code",
   "execution_count": null,
   "id": "2dc0c87d",
   "metadata": {},
   "outputs": [],
   "source": [
    "class Solution:\n",
    "    def kthSmallest(self, root: Optional[TreeNode], k: int) -> int:\n",
    "        # Initialize an empty list to be used as a stack \n",
    "        stack = []\n",
    "\n",
    "        # Continue the loop as long as there are nodes to be processed\n",
    "        # either in the stack or in the tree starting with the root.\n",
    "        while root or stack:\n",
    "            # Go to the leftmost node\n",
    "            if root:\n",
    "                # Push the current node onto the stack\n",
    "                stack.append(root)\n",
    "                # Move to the left child of the current node\n",
    "                root = root.left\n",
    "            else:\n",
    "                # If there is no left child, pop the node from the stack,\n",
    "                # this node is the next in the in-order traversal\n",
    "                root = stack.pop()\n",
    "                # Decrement k, as we have found one more small element\n",
    "                k -= 1\n",
    "                # If k is 0, we have found the kth smallest element\n",
    "                if k == 0:\n",
    "                    # Return the value of kth smallest node\n",
    "                    return root.val\n",
    "                # Move to the right child of the current node\n",
    "                root = root.right"
   ]
  },
  {
   "cell_type": "code",
   "execution_count": null,
   "id": "e78cc751",
   "metadata": {},
   "outputs": [],
   "source": []
  },
  {
   "cell_type": "code",
   "execution_count": 3,
   "id": "7f003b38",
   "metadata": {},
   "outputs": [],
   "source": [
    "def count_uniform_integers(A: int, B: int) -> int:\n",
    "    count = 0\n",
    "    for d in range(1, 10):  # Digits from 1 to 9\n",
    "        num = d\n",
    "        while num <= B:\n",
    "            if num >= A:\n",
    "                count += 1\n",
    "            num = num * 10 + d  # Append the same digit\n",
    "            print(num)\n",
    "    return count\n"
   ]
  },
  {
   "cell_type": "code",
   "execution_count": 4,
   "id": "184f2ce0",
   "metadata": {},
   "outputs": [
    {
     "name": "stdout",
     "output_type": "stream",
     "text": [
      "11\n",
      "111\n",
      "1111\n",
      "22\n",
      "222\n",
      "2222\n",
      "33\n",
      "333\n",
      "44\n",
      "444\n",
      "55\n",
      "555\n",
      "66\n",
      "666\n",
      "77\n",
      "777\n",
      "88\n",
      "888\n",
      "99\n",
      "999\n",
      "5\n"
     ]
    }
   ],
   "source": [
    "A = 75\n",
    "B = 300\n",
    "print(count_uniform_integers(A, B))  # Output: 5\n"
   ]
  },
  {
   "cell_type": "code",
   "execution_count": null,
   "id": "34266cad",
   "metadata": {},
   "outputs": [],
   "source": []
  },
  {
   "cell_type": "code",
   "execution_count": null,
   "id": "2f5deed9",
   "metadata": {},
   "outputs": [],
   "source": []
  },
  {
   "cell_type": "code",
   "execution_count": null,
   "id": "997ccfe3",
   "metadata": {},
   "outputs": [],
   "source": []
  },
  {
   "cell_type": "code",
   "execution_count": null,
   "id": "009aa073",
   "metadata": {},
   "outputs": [],
   "source": []
  }
 ],
 "metadata": {
  "kernelspec": {
   "display_name": "Python 3 (ipykernel)",
   "language": "python",
   "name": "python3"
  },
  "language_info": {
   "codemirror_mode": {
    "name": "ipython",
    "version": 3
   },
   "file_extension": ".py",
   "mimetype": "text/x-python",
   "name": "python",
   "nbconvert_exporter": "python",
   "pygments_lexer": "ipython3",
   "version": "3.9.7"
  }
 },
 "nbformat": 4,
 "nbformat_minor": 5
}
