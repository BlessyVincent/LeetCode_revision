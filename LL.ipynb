{
 "cells": [
  {
   "cell_type": "code",
   "execution_count": null,
   "id": "9b0d0d72",
   "metadata": {},
   "outputs": [],
   "source": [
    "#Linked List is a data structure that is used for storing collections of data\n",
    "# Arrays are expensive to maintain new insertions and deletions"
   ]
  },
  {
   "cell_type": "code",
   "execution_count": null,
   "id": "1cf4d61e",
   "metadata": {},
   "outputs": [],
   "source": [
    "#A linked list is a linear dynamic data structure.Each node in a linked list is made up of two items \n",
    "#the data\n",
    "#reference to next node\n",
    "#the last node has a reference to null\n",
    "#The entry point to the linked list is called the head of the list\n",
    "# It should be noted that the head is not a seperate node but the reference to the first node\n",
    "#If the list is empty the head is a null reference\n",
    "#Successive elements are connected by pointers\n",
    "#The last element points to none\n",
    "#It allocates memory as list grows\n",
    "# Does not waste memory space\n",
    "\n",
    "\n"
   ]
  },
  {
   "cell_type": "code",
   "execution_count": null,
   "id": "65535f3a",
   "metadata": {},
   "outputs": [],
   "source": [
    "#LinkedList Node Creation "
   ]
  },
  {
   "cell_type": "code",
   "execution_count": 5,
   "id": "e3a06291",
   "metadata": {},
   "outputs": [],
   "source": [
    "class Node:\n",
    "    def __init__(self,data):\n",
    "        self.data=data\n",
    "        self.next=None\n",
    "class LinkedList:\n",
    "    def __init__(self):\n",
    "        self.head=None\n",
    "    def create_list(self,newNode):\n",
    "        if self.head is None:\n",
    "            self.head=newNode\n",
    "        else:\n",
    "            x=self.head\n",
    "            while True:\n",
    "                if x.next is None:\n",
    "                    break;\n",
    "                x=x.next\n",
    "            x.next=newNode\n",
    "        \n",
    "    def display(self):\n",
    "        x=self.head\n",
    "        while x is not None:\n",
    "            print(x.data)\n",
    "            x=x.next\n",
    "    \n",
    "    def count(self):\n",
    "        x=self.head\n",
    "        c=0\n",
    "        while x is not None:\n",
    "            c += 1\n",
    "            x=x.next\n",
    "        print(\"total nodes\",c)\n",
    "        \n",
    "    def insert_at_beginning()\n",
    "        "
   ]
  },
  {
   "cell_type": "code",
   "execution_count": 8,
   "id": "ee81187e",
   "metadata": {},
   "outputs": [
    {
     "name": "stdout",
     "output_type": "stream",
     "text": [
      "5\n",
      "7\n",
      "9\n",
      "total nodes 3\n"
     ]
    }
   ],
   "source": [
    "n1=Node(5)\n",
    "n2=Node(7)\n",
    "n3=Node(9)\n",
    "l1=LinkedList()\n",
    "l1.create_list(n1)\n",
    "l1.create_list(n2)\n",
    "l1.create_list(n3)\n",
    "l1.display()\n",
    "l1.count()"
   ]
  },
  {
   "cell_type": "code",
   "execution_count": null,
   "id": "441bd8fe",
   "metadata": {},
   "outputs": [],
   "source": []
  },
  {
   "cell_type": "code",
   "execution_count": null,
   "id": "d3aaf516",
   "metadata": {},
   "outputs": [],
   "source": [
    "#Insertion or create List"
   ]
  },
  {
   "cell_type": "code",
   "execution_count": null,
   "id": "2246b757",
   "metadata": {},
   "outputs": [],
   "source": [
    "#Insert at beginning"
   ]
  },
  {
   "cell_type": "code",
   "execution_count": null,
   "id": "9af17f57",
   "metadata": {},
   "outputs": [],
   "source": [
    "def insertAtBeginning(self,data):\n",
    "    newNode=Node()\n",
    "    newNode.data=data\n",
    "    if self.length==0:\n",
    "        self.head=newNode\n",
    "    else:\n",
    "        newNode.next=self.head\n",
    "        self.head=newNode\n",
    "    self.length += 1\n",
    "    "
   ]
  },
  {
   "cell_type": "code",
   "execution_count": null,
   "id": "072cc555",
   "metadata": {},
   "outputs": [],
   "source": [
    "# Insert at the end of the list"
   ]
  },
  {
   "cell_type": "code",
   "execution_count": null,
   "id": "af37fab3",
   "metadata": {},
   "outputs": [],
   "source": [
    "def insertAtEnd(self,data):\n",
    "    newNode=Node()\n",
    "    newNode.data=data\n",
    "    current=self.head\n",
    "    while current.next != None:\n",
    "        current=current.next\n",
    "    current.next=newNode\n",
    "    self.length +=1"
   ]
  },
  {
   "cell_type": "code",
   "execution_count": null,
   "id": "d71f3978",
   "metadata": {},
   "outputs": [],
   "source": [
    "# Insert at a specific position \n",
    "# Method for inserting a new node at any position in a linked list"
   ]
  },
  {
   "cell_type": "code",
   "execution_count": null,
   "id": "9fa93bd1",
   "metadata": {},
   "outputs": [],
   "source": [
    "def insertAtGivenPosition(self,pos,data):\n",
    "    if pos>self.length or pos<0:\n",
    "        return None\n",
    "    else:\n",
    "        if pos==0:\n",
    "            self.insertAtBeg(data)\n",
    "        else:\n",
    "            newNode=Node()\n",
    "            newNode.data=data\n",
    "            count=1\n",
    "            current=self.head\n",
    "            while count<pos-1:\n",
    "                count += 1\n",
    "                current=current.next\n",
    "            newNode.next=current.next\n",
    "            current.next=newNode\n",
    "            self.length +=1"
   ]
  },
  {
   "cell_type": "code",
   "execution_count": null,
   "id": "d3555806",
   "metadata": {},
   "outputs": [],
   "source": [
    "# Delete from beginning"
   ]
  },
  {
   "cell_type": "code",
   "execution_count": null,
   "id": "78649a78",
   "metadata": {},
   "outputs": [],
   "source": [
    "def deleteFromBeginning(self):\n",
    "    if self.length==0:\n",
    "        print(\"the list is empty\")\n",
    "    else:\n",
    "        self.head=self.head.next\n",
    "        self.length -=1"
   ]
  },
  {
   "cell_type": "code",
   "execution_count": null,
   "id": "cccd9926",
   "metadata": {},
   "outputs": [],
   "source": [
    "# Delete the last node from the linked List"
   ]
  },
  {
   "cell_type": "code",
   "execution_count": null,
   "id": "a6eae9c2",
   "metadata": {},
   "outputs": [],
   "source": [
    "def deleteLastNodeFromSinglyLinkedList(self):\n",
    "    if self.length==0:\n",
    "        print(\"the list is empty\")\n",
    "    else:\n",
    "        currentnode=self.head\n",
    "        previousnode=self.head\n",
    "        while currentnode.next!=None:\n",
    "            previousnode=currentnode\n",
    "            currentnode=currentnode.next\n",
    "        previousnode.next=None\n",
    "        self.length -=1"
   ]
  },
  {
   "cell_type": "code",
   "execution_count": null,
   "id": "6337e154",
   "metadata": {},
   "outputs": [],
   "source": [
    "def deleteAtPosition(self,pos):\n",
    "    count=0\n",
    "    currentnode=self.head\n",
    "    previousnode=self.head\n",
    "    if pos>self.length or pos<0:\n",
    "        print(\"the position does not exist,please enter a valid position\")\n",
    "    else:\n",
    "        while currentnode.next != None or count<pos:\n",
    "            count = count + 1\n",
    "            if count==pos:\n",
    "                previousnode=currentnode.next\n",
    "                self.length -= 1\n",
    "                return\n",
    "            else:\n",
    "                previousnode=currentnode\n",
    "                currentnode=currentnode.next"
   ]
  },
  {
   "cell_type": "code",
   "execution_count": null,
   "id": "3f373c9f",
   "metadata": {},
   "outputs": [],
   "source": [
    "# Reverse Linked List"
   ]
  },
  {
   "cell_type": "code",
   "execution_count": null,
   "id": "8220db80",
   "metadata": {},
   "outputs": [],
   "source": [
    "def reverse_list(self):\n",
    "    prev=None\n",
    "    current=self.head\n",
    "    while (current is not None):\n",
    "        nextNode=current.next\n",
    "        current=prev\n",
    "        prev=current\n",
    "        current=nextNode\n",
    "    self.head=prev"
   ]
  },
  {
   "cell_type": "code",
   "execution_count": null,
   "id": "a492aec1",
   "metadata": {},
   "outputs": [],
   "source": [
    "# Reorder List Final solution"
   ]
  },
  {
   "cell_type": "code",
   "execution_count": null,
   "id": "5b39b96f",
   "metadata": {},
   "outputs": [],
   "source": [
    "# Definition for singly-linked list.\n",
    "# class ListNode:\n",
    "#     def __init__(self, val=0, next=None):\n",
    "#         self.val = val\n",
    "#         self.next = next\n",
    "class Solution:\n",
    "    def reorderList(self, head: Optional[ListNode]) -> None:\n",
    "        \"\"\"\n",
    "        Do not return anything, modify head in-place instead.\n",
    "        \"\"\"\n",
    "        if not head:\n",
    "            return\n",
    "        # find the middle of the linked list(problem 876)\n",
    "        slow = fast = head\n",
    "        while fast and fast.next:\n",
    "            slow = slow.next\n",
    "            fast = fast.next.next\n",
    "        #Reverse the second part of the linked list\n",
    "        prev = None\n",
    "        curr = slow\n",
    "        while curr:\n",
    "            curr.next,prev,curr=prev,curr,curr.next\n",
    "        #merge two sorted linked list\n",
    "        first,second=head,prev\n",
    "        while second.next:\n",
    "            first.next,first=second,first.next\n",
    "            second.next,second=first,second.next\n",
    "        "
   ]
  },
  {
   "cell_type": "code",
   "execution_count": null,
   "id": "4cfa5841",
   "metadata": {},
   "outputs": [],
   "source": [
    "class Node:\n",
    "    def __init__(self,x):\n",
    "        self.data=x\n",
    "        self.next=None\n",
    "class ReorderLists:\n",
    "    def reverseList(self,head):\n",
    "        prev=None\n",
    "        current=head\n",
    "        while(current is not None):\n",
    "            nextNode=current.next\n",
    "            current=prev\n",
    "            prev=current\n",
    "            current=nextNode\n",
    "        head=prev\n",
    "        return head\n",
    "    def middle(self,head):\n",
    "        slow=fast=head\n",
    "        while fast.next and fast.next.next:\n",
    "            fast=fast.next.next\n",
    "            slow=slow.next\n",
    "        head=slow.next\n",
    "        slow.next=None\n",
    "        return head\n",
    "    def reorderList(self,head):\n",
    "        if not head or not head.next:\n",
    "            return head\n",
    "        head2=self.middle(head)\n",
    "        head2=self.reverseList(head2)\n",
    "        p=head\n",
    "        q=head2\n",
    "        while q:\n",
    "            qnext=q.next\n",
    "            q.next=p.next\n",
    "            p.next=q\n",
    "            p=q.next\n",
    "            q=qnext\n",
    "        return head "
   ]
  },
  {
   "cell_type": "code",
   "execution_count": null,
   "id": "3a294cc5",
   "metadata": {},
   "outputs": [],
   "source": []
  },
  {
   "cell_type": "code",
   "execution_count": null,
   "id": "b46cc987",
   "metadata": {},
   "outputs": [],
   "source": []
  },
  {
   "cell_type": "code",
   "execution_count": null,
   "id": "57604bf7",
   "metadata": {},
   "outputs": [],
   "source": [
    "    def middle(self,head):\n",
    "        slow=fast=head\n",
    "        while fast.next and fast.next.next:\n",
    "            fast=fast.next.next\n",
    "            slow=slow.next\n",
    "        head=slow.next\n",
    "        slow.next=None\n",
    "        return head"
   ]
  },
  {
   "cell_type": "code",
   "execution_count": null,
   "id": "675a29bd",
   "metadata": {},
   "outputs": [],
   "source": []
  },
  {
   "cell_type": "code",
   "execution_count": null,
   "id": "c0c9b69b",
   "metadata": {},
   "outputs": [],
   "source": [
    "# Merge two lists and sorted lists same "
   ]
  },
  {
   "cell_type": "code",
   "execution_count": 1,
   "id": "04711c3a",
   "metadata": {},
   "outputs": [],
   "source": [
    "#def mergeTwoSortedLists(self,list1,list2):\n",
    "def mergeTwoLists(self,list1,list2):\n",
    "    dummy=Node()\n",
    "    pointer=dummy\n",
    "    while list1 != None and list2 != None:\n",
    "        if list1.data < list2.data:\n",
    "            pointer.next=list1\n",
    "            list1=list1.next\n",
    "        else:\n",
    "            pointer.next=list2\n",
    "            list2=list2.next\n",
    "        pointer=pointer.next\n",
    "        if list1 == None:\n",
    "            pointer.next=list2\n",
    "        else:\n",
    "            pointer.next=list1\n",
    "        return dummy.next \n",
    "            "
   ]
  },
  {
   "cell_type": "code",
   "execution_count": null,
   "id": "69da5a44",
   "metadata": {},
   "outputs": [],
   "source": [
    "# detect Cycle "
   ]
  },
  {
   "cell_type": "code",
   "execution_count": null,
   "id": "6a02917a",
   "metadata": {},
   "outputs": [],
   "source": [
    "def detectCycle(self):\n",
    "    fastPtr=self.head\n",
    "    slowPtr=self.head\n",
    "    while(fastPtr and slowPtr):\n",
    "        fastPtr=fastPtr.next\n",
    "        if (fastPtr == slowPtr):\n",
    "            return True\n",
    "        if fastPtr ==None:\n",
    "            return False\n",
    "        fastPtr=fastPtr.next\n",
    "        if (fastPtr == slowPtr):\n",
    "            return True\n",
    "        slowPtr=slowPtr.next"
   ]
  },
  {
   "cell_type": "code",
   "execution_count": null,
   "id": "56ebdb58",
   "metadata": {},
   "outputs": [],
   "source": [
    "# Remove Nth Node From End Of List\n"
   ]
  },
  {
   "cell_type": "code",
   "execution_count": null,
   "id": "099530ff",
   "metadata": {},
   "outputs": [],
   "source": [
    "def hasCycle(head: ListNode) -> bool:\n",
    "    slow,fast=head,head\n",
    "    while fast and fast.next:\n",
    "        slow=slow.next\n",
    "        fast=fast.next.next\n",
    "        if slow==fast:\n",
    "            return True\n",
    "    return False"
   ]
  },
  {
   "cell_type": "code",
   "execution_count": null,
   "id": "d7d93a52",
   "metadata": {},
   "outputs": [],
   "source": []
  },
  {
   "cell_type": "code",
   "execution_count": null,
   "id": "ece981e5",
   "metadata": {},
   "outputs": [],
   "source": []
  },
  {
   "cell_type": "code",
   "execution_count": null,
   "id": "d4eeac16",
   "metadata": {},
   "outputs": [],
   "source": []
  },
  {
   "cell_type": "code",
   "execution_count": null,
   "id": "f5c98071",
   "metadata": {},
   "outputs": [],
   "source": []
  },
  {
   "cell_type": "code",
   "execution_count": null,
   "id": "940e85a2",
   "metadata": {},
   "outputs": [],
   "source": []
  },
  {
   "cell_type": "code",
   "execution_count": null,
   "id": "c3e8cf36",
   "metadata": {},
   "outputs": [],
   "source": []
  }
 ],
 "metadata": {
  "kernelspec": {
   "display_name": "Python 3 (ipykernel)",
   "language": "python",
   "name": "python3"
  },
  "language_info": {
   "codemirror_mode": {
    "name": "ipython",
    "version": 3
   },
   "file_extension": ".py",
   "mimetype": "text/x-python",
   "name": "python",
   "nbconvert_exporter": "python",
   "pygments_lexer": "ipython3",
   "version": "3.9.7"
  }
 },
 "nbformat": 4,
 "nbformat_minor": 5
}
